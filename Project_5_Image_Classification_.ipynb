{
  "nbformat": 4,
  "nbformat_minor": 0,
  "metadata": {
    "colab": {
      "name": "Project  - 5  - Image Classification .ipynb",
      "version": "0.3.2",
      "provenance": [],
      "collapsed_sections": []
    },
    "kernelspec": {
      "name": "python3",
      "display_name": "Python 3"
    },
    "accelerator": "GPU"
  },
  "cells": [
    {
      "metadata": {
        "id": "LsjrLu5-efcF",
        "colab_type": "text"
      },
      "cell_type": "markdown",
      "source": [
        "## **Project -5 Image Classification from CIFAR-10 dataset **"
      ]
    },
    {
      "metadata": {
        "id": "AwO5mg5YeSz5",
        "colab_type": "text"
      },
      "cell_type": "markdown",
      "source": [
        "### **Import Libraires**"
      ]
    },
    {
      "metadata": {
        "id": "XamhhmR8MH_m",
        "colab_type": "code",
        "colab": {}
      },
      "cell_type": "code",
      "source": [
        "import keras\n",
        "from matplotlib import pyplot\n",
        "from scipy.misc import toimage\n",
        "from keras.datasets import cifar10\n",
        "%matplotlib inline"
      ],
      "execution_count": 0,
      "outputs": []
    },
    {
      "metadata": {
        "id": "2gMQsBWMe5Ra",
        "colab_type": "text"
      },
      "cell_type": "markdown",
      "source": [
        "### [**Download the cifar10 data into train and test**](https://)"
      ]
    },
    {
      "metadata": {
        "id": "0Wdlua7vNzga",
        "colab_type": "code",
        "colab": {}
      },
      "cell_type": "code",
      "source": [
        "def show_imgs(X):\n",
        "    pyplot.figure(1)\n",
        "    k = 0\n",
        "    for i in range(0,4):\n",
        "        for j in range(0,4):\n",
        "            pyplot.subplot2grid((4,4),(i,j))\n",
        "            pyplot.imshow(toimage(X[k]))\n",
        "            k = k+1\n",
        "    # show the plot\n",
        "    pyplot.show()\n"
      ],
      "execution_count": 0,
      "outputs": []
    },
    {
      "metadata": {
        "id": "0BaH0Nb7N_oX",
        "colab_type": "code",
        "outputId": "f9417e28-7edf-4100-e094-4f9ffff494b1",
        "colab": {
          "base_uri": "https://localhost:8080/",
          "height": 51
        }
      },
      "cell_type": "code",
      "source": [
        "(x_train, y_train), (x_test, y_test) = cifar10.load_data()\n"
      ],
      "execution_count": 5,
      "outputs": [
        {
          "output_type": "stream",
          "text": [
            "Downloading data from https://www.cs.toronto.edu/~kriz/cifar-10-python.tar.gz\n",
            "170500096/170498071 [==============================] - 43s 0us/step\n"
          ],
          "name": "stdout"
        }
      ]
    },
    {
      "metadata": {
        "id": "b1HyGZXKOOzX",
        "colab_type": "code",
        "outputId": "15cf19a2-d890-4950-8ca4-c82c22245bcb",
        "colab": {
          "base_uri": "https://localhost:8080/",
          "height": 34
        }
      },
      "cell_type": "code",
      "source": [
        "x_train.shape"
      ],
      "execution_count": 6,
      "outputs": [
        {
          "output_type": "execute_result",
          "data": {
            "text/plain": [
              "(50000, 32, 32, 3)"
            ]
          },
          "metadata": {
            "tags": []
          },
          "execution_count": 6
        }
      ]
    },
    {
      "metadata": {
        "id": "9uEwxPsEfeLi",
        "colab_type": "text"
      },
      "cell_type": "markdown",
      "source": [
        "### 50,000 images are there in the dataset with pixel size 32 * 32 and a colour image."
      ]
    },
    {
      "metadata": {
        "id": "FjmfpXBUOSjh",
        "colab_type": "code",
        "outputId": "9aab8b02-add1-4c90-a439-bb03c551b488",
        "colab": {
          "base_uri": "https://localhost:8080/",
          "height": 34
        }
      },
      "cell_type": "code",
      "source": [
        "y_train.shape"
      ],
      "execution_count": 7,
      "outputs": [
        {
          "output_type": "execute_result",
          "data": {
            "text/plain": [
              "(50000, 1)"
            ]
          },
          "metadata": {
            "tags": []
          },
          "execution_count": 7
        }
      ]
    },
    {
      "metadata": {
        "id": "HeV19lteOYK4",
        "colab_type": "code",
        "outputId": "4b1f95f7-bd95-4e4c-d8df-27976d14bff6",
        "colab": {
          "base_uri": "https://localhost:8080/",
          "height": 34
        }
      },
      "cell_type": "code",
      "source": [
        "x_test.shape"
      ],
      "execution_count": 8,
      "outputs": [
        {
          "output_type": "execute_result",
          "data": {
            "text/plain": [
              "(10000, 32, 32, 3)"
            ]
          },
          "metadata": {
            "tags": []
          },
          "execution_count": 8
        }
      ]
    },
    {
      "metadata": {
        "id": "xcGfO0awOcgK",
        "colab_type": "code",
        "outputId": "ae7f4f70-a12d-400a-926a-cbf50d988e0a",
        "colab": {
          "base_uri": "https://localhost:8080/",
          "height": 34
        }
      },
      "cell_type": "code",
      "source": [
        "y_test.shape"
      ],
      "execution_count": 9,
      "outputs": [
        {
          "output_type": "execute_result",
          "data": {
            "text/plain": [
              "(10000, 1)"
            ]
          },
          "metadata": {
            "tags": []
          },
          "execution_count": 9
        }
      ]
    },
    {
      "metadata": {
        "id": "iV-hn0xcgUGG",
        "colab_type": "text"
      },
      "cell_type": "markdown",
      "source": [
        "### Display the first 16 impages"
      ]
    },
    {
      "metadata": {
        "id": "GsMz78djOzVS",
        "colab_type": "code",
        "outputId": "be7256fa-08f0-4102-e921-3734800a26fc",
        "colab": {
          "base_uri": "https://localhost:8080/",
          "height": 337
        }
      },
      "cell_type": "code",
      "source": [
        "show_imgs(x_test[:16])"
      ],
      "execution_count": 10,
      "outputs": [
        {
          "output_type": "stream",
          "text": [
            "/usr/local/lib/python3.6/dist-packages/ipykernel_launcher.py:7: DeprecationWarning: `toimage` is deprecated!\n",
            "`toimage` is deprecated in SciPy 1.0.0, and will be removed in 1.2.0.\n",
            "Use Pillow's ``Image.fromarray`` directly instead.\n",
            "  import sys\n"
          ],
          "name": "stderr"
        },
        {
          "output_type": "display_data",
          "data": {
            "image/png": "[encoded data removed]",
            "text/plain": [
              "<Figure size 432x288 with 16 Axes>"
            ]
          },
          "metadata": {
            "tags": []
          }
        }
      ]
    },
    {
      "metadata": {
        "id": "JJ_VKncRhQ32",
        "colab_type": "text"
      },
      "cell_type": "markdown",
      "source": [
        "### To avoid overfitting,  Generate different images from a same image  by taking random crop of the same image by using Data generator function"
      ]
    },
    {
      "metadata": {
        "id": "h7n-iqtYO5yc",
        "colab_type": "code",
        "colab": {}
      },
      "cell_type": "code",
      "source": [
        "# Data Augmentation\n",
        "from keras.preprocessing.image import ImageDataGenerator\n",
        "datagen = ImageDataGenerator( rotation_range=90,\n",
        "                 width_shift_range=0.1, height_shift_range=0.1,\n",
        "                 horizontal_flip=True)\n",
        "datagen.fit(x_train)"
      ],
      "execution_count": 0,
      "outputs": []
    },
    {
      "metadata": {
        "id": "IQA-78XcSOk9",
        "colab_type": "code",
        "outputId": "359051cb-327e-4db9-c5d9-7a270528130c",
        "colab": {
          "base_uri": "https://localhost:8080/",
          "height": 336
        }
      },
      "cell_type": "code",
      "source": [
        "from matplotlib import pyplot as plt\n",
        "# Configure batch size and retrieve one batch of images\n",
        "for X_batch, y_batch in datagen.flow(x_train, y_train, batch_size=9):\n",
        "    # Show 9 images\n",
        "    for i in range(0, 9):\n",
        "        plt.subplot(330 + 1 + i)\n",
        "        plt.imshow(toimage(X_batch[i]))\n",
        "    # show the plot\n",
        "    plt.show()\n",
        "    break\n"
      ],
      "execution_count": 12,
      "outputs": [
        {
          "output_type": "stream",
          "text": [
            "/usr/local/lib/python3.6/dist-packages/ipykernel_launcher.py:7: DeprecationWarning: `toimage` is deprecated!\n",
            "`toimage` is deprecated in SciPy 1.0.0, and will be removed in 1.2.0.\n",
            "Use Pillow's ``Image.fromarray`` directly instead.\n",
            "  import sys\n"
          ],
          "name": "stderr"
        },
        {
          "output_type": "display_data",
          "data": {
            "image/png": "[encoded data removed]",
            "text/plain": [
              "<Figure size 432x288 with 9 Axes>"
            ]
          },
          "metadata": {
            "tags": []
          }
        }
      ]
    },
    {
      "metadata": {
        "id": "FyNLzcHQkudd",
        "colab_type": "text"
      },
      "cell_type": "markdown",
      "source": [
        "### Import Packages"
      ]
    },
    {
      "metadata": {
        "id": "lonTHjINSiGZ",
        "colab_type": "code",
        "colab": {}
      },
      "cell_type": "code",
      "source": [
        "import keras\n",
        "from keras.models import Sequential\n",
        "from keras.utils import np_utils\n",
        "from keras.preprocessing.image import ImageDataGenerator\n",
        "from keras.layers import Dense, Activation, Flatten, Dropout, BatchNormalization\n",
        "from keras.layers import Conv2D, MaxPooling2D\n",
        "from keras.datasets import cifar10\n",
        "from keras import regularizers\n",
        "from keras.callbacks import LearningRateScheduler\n",
        "import numpy as np"
      ],
      "execution_count": 0,
      "outputs": []
    },
    {
      "metadata": {
        "id": "Dl2GU2makzqC",
        "colab_type": "text"
      },
      "cell_type": "markdown",
      "source": [
        "###   Define Learning Rate Scheduler - based on the epochs. "
      ]
    },
    {
      "metadata": {
        "id": "-98vtJb7SvS5",
        "colab_type": "code",
        "colab": {}
      },
      "cell_type": "code",
      "source": [
        "def lr_schedule(epoch):\n",
        "    lrate = 0.001  # Learning rate is higher at the start\n",
        "    if epoch > 75:\n",
        "        lrate = 0.0005 # smaller Learning rate as we are reaching global minimum\n",
        "    if epoch > 100:\n",
        "        lrate = 0.0003 # smaller Learning rate as we are reaching global minimum\n",
        "    return lrate\n"
      ],
      "execution_count": 0,
      "outputs": []
    },
    {
      "metadata": {
        "id": "Qgud0UoxnT7B",
        "colab_type": "text"
      },
      "cell_type": "markdown",
      "source": [
        "### As the images are in pixles value which are integer. We will scale the data between 0 and 1. so converting it to float"
      ]
    },
    {
      "metadata": {
        "id": "rSIu96zzUSIE",
        "colab_type": "code",
        "colab": {}
      },
      "cell_type": "code",
      "source": [
        "x_train = x_train.astype('float32')\n",
        "x_test = x_test.astype('float32')"
      ],
      "execution_count": 0,
      "outputs": []
    },
    {
      "metadata": {
        "id": "BtIXr1C8nYU6",
        "colab_type": "text"
      },
      "cell_type": "markdown",
      "source": [
        "## #Get mean and standard deviation values "
      ]
    },
    {
      "metadata": {
        "id": "bncc-m08Uh8M",
        "colab_type": "code",
        "colab": {}
      },
      "cell_type": "code",
      "source": [
        "mean = np.mean(x_train,axis=(0,1,2,3))\n",
        "std = np.std(x_train,axis=(0,1,2,3))"
      ],
      "execution_count": 0,
      "outputs": []
    },
    {
      "metadata": {
        "id": "-l3Xi1kyUnHd",
        "colab_type": "code",
        "outputId": "8acb793f-abd0-4131-8203-d0ede27b246c",
        "colab": {
          "base_uri": "https://localhost:8080/",
          "height": 34
        }
      },
      "cell_type": "code",
      "source": [
        "mean"
      ],
      "execution_count": 17,
      "outputs": [
        {
          "output_type": "execute_result",
          "data": {
            "text/plain": [
              "120.70748"
            ]
          },
          "metadata": {
            "tags": []
          },
          "execution_count": 17
        }
      ]
    },
    {
      "metadata": {
        "id": "_b_dN6GfUpDF",
        "colab_type": "code",
        "outputId": "8de2534b-1a5c-4831-83e4-8b83a9f0d336",
        "colab": {
          "base_uri": "https://localhost:8080/",
          "height": 34
        }
      },
      "cell_type": "code",
      "source": [
        "std"
      ],
      "execution_count": 18,
      "outputs": [
        {
          "output_type": "execute_result",
          "data": {
            "text/plain": [
              "64.150024"
            ]
          },
          "metadata": {
            "tags": []
          },
          "execution_count": 18
        }
      ]
    },
    {
      "metadata": {
        "id": "zCxNmxiMnm4V",
        "colab_type": "text"
      },
      "cell_type": "markdown",
      "source": [
        "### Normalize the data"
      ]
    },
    {
      "metadata": {
        "id": "xaRCAewanzx2",
        "colab_type": "code",
        "colab": {}
      },
      "cell_type": "code",
      "source": [
        "x_train = (x_train-mean)/(std+1e-7)\n",
        "x_test = (x_test-mean)/(std+1e-7)"
      ],
      "execution_count": 0,
      "outputs": []
    },
    {
      "metadata": {
        "id": "VjaeNoXznwWi",
        "colab_type": "code",
        "colab": {}
      },
      "cell_type": "code",
      "source": [
        "# Class number\n",
        "num_classes = 10"
      ],
      "execution_count": 0,
      "outputs": []
    },
    {
      "metadata": {
        "id": "LScS9vATU0TG",
        "colab_type": "code",
        "outputId": "b2372e28-870e-4d3d-911d-cac8c4b64e4b",
        "colab": {
          "base_uri": "https://localhost:8080/",
          "height": 187
        }
      },
      "cell_type": "code",
      "source": [
        "y_train[:10] # This represent the class number. Like 1- Automobiles, 9 - Truck etc. Need to convert one hot encoding"
      ],
      "execution_count": 21,
      "outputs": [
        {
          "output_type": "execute_result",
          "data": {
            "text/plain": [
              "array([[6],\n",
              "       [9],\n",
              "       [9],\n",
              "       [4],\n",
              "       [1],\n",
              "       [1],\n",
              "       [2],\n",
              "       [7],\n",
              "       [8],\n",
              "       [3]], dtype=uint8)"
            ]
          },
          "metadata": {
            "tags": []
          },
          "execution_count": 21
        }
      ]
    },
    {
      "metadata": {
        "id": "vNPK4m19U9gK",
        "colab_type": "code",
        "colab": {}
      },
      "cell_type": "code",
      "source": [
        "# To convert y_train and y_test to one hot vectors.\n",
        "y_train = np_utils.to_categorical(y_train,num_classes)\n",
        "y_test = np_utils.to_categorical(y_test,num_classes)"
      ],
      "execution_count": 0,
      "outputs": []
    },
    {
      "metadata": {
        "id": "v7OHG0B5WEwY",
        "colab_type": "code",
        "outputId": "bc226f01-7385-4cb7-8bd5-ab40bed586da",
        "colab": {
          "base_uri": "https://localhost:8080/",
          "height": 187
        }
      },
      "cell_type": "code",
      "source": [
        "y_train[:10]"
      ],
      "execution_count": 24,
      "outputs": [
        {
          "output_type": "execute_result",
          "data": {
            "text/plain": [
              "array([[0., 0., 0., 0., 0., 0., 1., 0., 0., 0.],\n",
              "       [0., 0., 0., 0., 0., 0., 0., 0., 0., 1.],\n",
              "       [0., 0., 0., 0., 0., 0., 0., 0., 0., 1.],\n",
              "       [0., 0., 0., 0., 1., 0., 0., 0., 0., 0.],\n",
              "       [0., 1., 0., 0., 0., 0., 0., 0., 0., 0.],\n",
              "       [0., 1., 0., 0., 0., 0., 0., 0., 0., 0.],\n",
              "       [0., 0., 1., 0., 0., 0., 0., 0., 0., 0.],\n",
              "       [0., 0., 0., 0., 0., 0., 0., 1., 0., 0.],\n",
              "       [0., 0., 0., 0., 0., 0., 0., 0., 1., 0.],\n",
              "       [0., 0., 0., 1., 0., 0., 0., 0., 0., 0.]], dtype=float32)"
            ]
          },
          "metadata": {
            "tags": []
          },
          "execution_count": 24
        }
      ]
    },
    {
      "metadata": {
        "id": "3k5A2S0Yr7az",
        "colab_type": "text"
      },
      "cell_type": "markdown",
      "source": [
        "## Define the Model"
      ]
    },
    {
      "metadata": {
        "id": "mdKN_y3EXn-K",
        "colab_type": "code",
        "colab": {
          "base_uri": "https://localhost:8080/",
          "height": 139
        },
        "outputId": "caf7d45e-ad24-41f7-accc-c9a51b3b61f8"
      },
      "cell_type": "code",
      "source": [
        "weight_decay = 1e-4\n",
        "\n",
        "model = Sequential()  # This is a sequential model not a recurrent model\n",
        "#Convolution with 3*3 filter. \n",
        "model.add(Conv2D(32, (3,3), padding='same', kernel_regularizer=regularizers.l2(weight_decay), input_shape=x_train.shape[1:]))\n",
        "model.add(Activation('elu')) # elu activation\n",
        "model.add(BatchNormalization())\n",
        "# output of the first layer will be the input of the second layer\n",
        "model.add(Conv2D(32, (3,3), padding='same', kernel_regularizer=regularizers.l2(weight_decay)))\n",
        "model.add(Activation('elu'))\n",
        "model.add(BatchNormalization())\n",
        "model.add(MaxPooling2D(pool_size=(2,2))) # \n",
        "model.add(Dropout(0.2)) # to avoid overfitting,adding a drop out of 20% of data to zero while training\n",
        "\n",
        "model.add(Conv2D(64, (3,3), padding='same', kernel_regularizer=regularizers.l2(weight_decay)))\n",
        "model.add(Activation('elu'))\n",
        "model.add(BatchNormalization())\n",
        "model.add(Conv2D(64, (3,3), padding='same', kernel_regularizer=regularizers.l2(weight_decay)))\n",
        "model.add(Activation('elu'))\n",
        "model.add(BatchNormalization())\n",
        "model.add(MaxPooling2D(pool_size=(2,2)))\n",
        "model.add(Dropout(0.3))\n",
        "\n",
        "model.add(Conv2D(128, (3,3), padding='same', kernel_regularizer=regularizers.l2(weight_decay)))\n",
        "model.add(Activation('elu'))\n",
        "model.add(BatchNormalization())\n",
        "model.add(Conv2D(128, (3,3), padding='same', kernel_regularizer=regularizers.l2(weight_decay)))\n",
        "model.add(Activation('elu'))\n",
        "model.add(BatchNormalization())\n",
        "model.add(MaxPooling2D(pool_size=(2,2)))\n",
        "model.add(Dropout(0.4))\n",
        "\n",
        "model.add(Flatten())  # to put into a single array\n",
        "model.add(Dense(num_classes, activation='softmax'))"
      ],
      "execution_count": 25,
      "outputs": [
        {
          "output_type": "stream",
          "text": [
            "WARNING:tensorflow:From /usr/local/lib/python3.6/dist-packages/tensorflow/python/framework/op_def_library.py:263: colocate_with (from tensorflow.python.framework.ops) is deprecated and will be removed in a future version.\n",
            "Instructions for updating:\n",
            "Colocations handled automatically by placer.\n",
            "WARNING:tensorflow:From /usr/local/lib/python3.6/dist-packages/keras/backend/tensorflow_backend.py:3445: calling dropout (from tensorflow.python.ops.nn_ops) with keep_prob is deprecated and will be removed in a future version.\n",
            "Instructions for updating:\n",
            "Please use `rate` instead of `keep_prob`. Rate should be set to `rate = 1 - keep_prob`.\n"
          ],
          "name": "stdout"
        }
      ]
    },
    {
      "metadata": {
        "id": "iKkjt2PKX4fg",
        "colab_type": "code",
        "outputId": "d81bce7f-17d2-46f0-ffbc-4a853ed64f72",
        "colab": {
          "base_uri": "https://localhost:8080/",
          "height": 1020
        }
      },
      "cell_type": "code",
      "source": [
        "model.summary()"
      ],
      "execution_count": 50,
      "outputs": [
        {
          "output_type": "stream",
          "text": [
            "_________________________________________________________________\n",
            "Layer (type)                 Output Shape              Param #   \n",
            "=================================================================\n",
            "conv2d_1 (Conv2D)            (None, 32, 32, 32)        896       \n",
            "_________________________________________________________________\n",
            "activation_1 (Activation)    (None, 32, 32, 32)        0         \n",
            "_________________________________________________________________\n",
            "batch_normalization_1 (Batch (None, 32, 32, 32)        128       \n",
            "_________________________________________________________________\n",
            "conv2d_2 (Conv2D)            (None, 32, 32, 32)        9248      \n",
            "_________________________________________________________________\n",
            "activation_2 (Activation)    (None, 32, 32, 32)        0         \n",
            "_________________________________________________________________\n",
            "batch_normalization_2 (Batch (None, 32, 32, 32)        128       \n",
            "_________________________________________________________________\n",
            "max_pooling2d_1 (MaxPooling2 (None, 16, 16, 32)        0         \n",
            "_________________________________________________________________\n",
            "dropout_1 (Dropout)          (None, 16, 16, 32)        0         \n",
            "_________________________________________________________________\n",
            "conv2d_3 (Conv2D)            (None, 16, 16, 64)        18496     \n",
            "_________________________________________________________________\n",
            "activation_3 (Activation)    (None, 16, 16, 64)        0         \n",
            "_________________________________________________________________\n",
            "batch_normalization_3 (Batch (None, 16, 16, 64)        256       \n",
            "_________________________________________________________________\n",
            "conv2d_4 (Conv2D)            (None, 16, 16, 64)        36928     \n",
            "_________________________________________________________________\n",
            "activation_4 (Activation)    (None, 16, 16, 64)        0         \n",
            "_________________________________________________________________\n",
            "batch_normalization_4 (Batch (None, 16, 16, 64)        256       \n",
            "_________________________________________________________________\n",
            "max_pooling2d_2 (MaxPooling2 (None, 8, 8, 64)          0         \n",
            "_________________________________________________________________\n",
            "dropout_2 (Dropout)          (None, 8, 8, 64)          0         \n",
            "_________________________________________________________________\n",
            "conv2d_5 (Conv2D)            (None, 8, 8, 128)         73856     \n",
            "_________________________________________________________________\n",
            "activation_5 (Activation)    (None, 8, 8, 128)         0         \n",
            "_________________________________________________________________\n",
            "batch_normalization_5 (Batch (None, 8, 8, 128)         512       \n",
            "_________________________________________________________________\n",
            "conv2d_6 (Conv2D)            (None, 8, 8, 128)         147584    \n",
            "_________________________________________________________________\n",
            "activation_6 (Activation)    (None, 8, 8, 128)         0         \n",
            "_________________________________________________________________\n",
            "batch_normalization_6 (Batch (None, 8, 8, 128)         512       \n",
            "_________________________________________________________________\n",
            "max_pooling2d_3 (MaxPooling2 (None, 4, 4, 128)         0         \n",
            "_________________________________________________________________\n",
            "dropout_3 (Dropout)          (None, 4, 4, 128)         0         \n",
            "_________________________________________________________________\n",
            "flatten_1 (Flatten)          (None, 2048)              0         \n",
            "_________________________________________________________________\n",
            "dense_1 (Dense)              (None, 10)                20490     \n",
            "=================================================================\n",
            "Total params: 309,290\n",
            "Trainable params: 308,394\n",
            "Non-trainable params: 896\n",
            "_________________________________________________________________\n"
          ],
          "name": "stdout"
        }
      ]
    },
    {
      "metadata": {
        "id": "FvoOuTT6lNk7",
        "colab_type": "code",
        "colab": {}
      },
      "cell_type": "code",
      "source": [
        "#data augmentation\n",
        "datagen = ImageDataGenerator(\n",
        "    rotation_range=15,\n",
        "    width_shift_range=0.1,\n",
        "    height_shift_range=0.1,\n",
        "    horizontal_flip=True,\n",
        "    )\n",
        "datagen.fit(x_train)"
      ],
      "execution_count": 0,
      "outputs": []
    },
    {
      "metadata": {
        "id": "S8X1MV1KlV5c",
        "colab_type": "code",
        "colab": {}
      },
      "cell_type": "code",
      "source": [
        "#training batch size\n",
        "batch_size = 64"
      ],
      "execution_count": 0,
      "outputs": []
    },
    {
      "metadata": {
        "id": "dKemi_emlYZS",
        "colab_type": "code",
        "colab": {}
      },
      "cell_type": "code",
      "source": [
        "# Rs optimizer is a form of  Gradient descent and giving a small decay so that LR value is small\n",
        "opt_rms = keras.optimizers.rmsprop(lr=0.001,decay=1e-6)"
      ],
      "execution_count": 0,
      "outputs": []
    },
    {
      "metadata": {
        "id": "fX6cxDWzllIB",
        "colab_type": "code",
        "colab": {}
      },
      "cell_type": "code",
      "source": [
        "# Loss function -- Cross Entropy and monitor the accuracy. Optimizer is required to update the weights\n",
        "model.compile(loss='categorical_crossentropy', optimizer=opt_rms, metrics=['accuracy'])"
      ],
      "execution_count": 0,
      "outputs": []
    },
    {
      "metadata": {
        "id": "YIjX9nMnoq6D",
        "colab_type": "code",
        "outputId": "fbdd37eb-143a-490f-d6be-e73efefa2ef5",
        "colab": {
          "base_uri": "https://localhost:8080/",
          "height": 34
        }
      },
      "cell_type": "code",
      "source": [
        "x_train.shape"
      ],
      "execution_count": 32,
      "outputs": [
        {
          "output_type": "execute_result",
          "data": {
            "text/plain": [
              "(50000, 32, 32, 3)"
            ]
          },
          "metadata": {
            "tags": []
          },
          "execution_count": 32
        }
      ]
    },
    {
      "metadata": {
        "id": "2MFPvLWgouUu",
        "colab_type": "code",
        "outputId": "b82c7156-abd5-429e-fd5d-da7868d75e71",
        "colab": {
          "base_uri": "https://localhost:8080/",
          "height": 34
        }
      },
      "cell_type": "code",
      "source": [
        "y_train.shape"
      ],
      "execution_count": 33,
      "outputs": [
        {
          "output_type": "execute_result",
          "data": {
            "text/plain": [
              "(50000, 10)"
            ]
          },
          "metadata": {
            "tags": []
          },
          "execution_count": 33
        }
      ]
    },
    {
      "metadata": {
        "id": "3eDf4OmaoyZ5",
        "colab_type": "code",
        "outputId": "9c55c1c6-c0df-4a31-ea3b-bb4e3d061aa9",
        "colab": {
          "base_uri": "https://localhost:8080/",
          "height": 34
        }
      },
      "cell_type": "code",
      "source": [
        "x_test.shape"
      ],
      "execution_count": 35,
      "outputs": [
        {
          "output_type": "execute_result",
          "data": {
            "text/plain": [
              "(10000, 32, 32, 3)"
            ]
          },
          "metadata": {
            "tags": []
          },
          "execution_count": 35
        }
      ]
    },
    {
      "metadata": {
        "id": "7mlgLk-jo02b",
        "colab_type": "code",
        "outputId": "5443f882-ff92-4f79-8a54-3ac971f4713e",
        "colab": {
          "base_uri": "https://localhost:8080/",
          "height": 34
        }
      },
      "cell_type": "code",
      "source": [
        "y_test.shape"
      ],
      "execution_count": 36,
      "outputs": [
        {
          "output_type": "execute_result",
          "data": {
            "text/plain": [
              "(10000, 10)"
            ]
          },
          "metadata": {
            "tags": []
          },
          "execution_count": 36
        }
      ]
    },
    {
      "metadata": {
        "id": "6pa8Ge7Un2AD",
        "colab_type": "text"
      },
      "cell_type": "markdown",
      "source": [
        "## Train the Model "
      ]
    },
    {
      "metadata": {
        "id": "xvi97C8kmS6u",
        "colab_type": "code",
        "outputId": "5f0bb170-f833-451f-8f78-eab19fa7bee2",
        "colab": {
          "base_uri": "https://localhost:8080/",
          "height": 1054
        }
      },
      "cell_type": "code",
      "source": [
        "model.fit_generator(datagen.flow(x_train, y_train, batch_size=batch_size),\\\n",
        "                    steps_per_epoch=x_train.shape[0] // batch_size,epochs=30,\\\n",
        "                    verbose=1,validation_data=(x_test,y_test),callbacks=[LearningRateScheduler(lr_schedule)])"
      ],
      "execution_count": 40,
      "outputs": [
        {
          "output_type": "stream",
          "text": [
            "Epoch 1/30\n",
            "781/781 [==============================] - 44s 56ms/step - loss: 1.2699 - acc: 0.5962 - val_loss: 1.0908 - val_acc: 0.6606\n",
            "Epoch 2/30\n",
            "781/781 [==============================] - 42s 54ms/step - loss: 1.0862 - acc: 0.6551 - val_loss: 0.9048 - val_acc: 0.7167\n",
            "Epoch 3/30\n",
            "781/781 [==============================] - 41s 52ms/step - loss: 0.9906 - acc: 0.6888 - val_loss: 0.8916 - val_acc: 0.7265\n",
            "Epoch 4/30\n",
            "781/781 [==============================] - 39s 50ms/step - loss: 0.9209 - acc: 0.7149 - val_loss: 0.8265 - val_acc: 0.7564\n",
            "Epoch 5/30\n",
            "781/781 [==============================] - 38s 49ms/step - loss: 0.8818 - acc: 0.7289 - val_loss: 0.8180 - val_acc: 0.7594\n",
            "Epoch 6/30\n",
            "781/781 [==============================] - 38s 49ms/step - loss: 0.8427 - acc: 0.7463 - val_loss: 0.8029 - val_acc: 0.7689\n",
            "Epoch 7/30\n",
            "781/781 [==============================] - 42s 54ms/step - loss: 0.8133 - acc: 0.7566 - val_loss: 0.7378 - val_acc: 0.7854\n",
            "Epoch 8/30\n",
            "781/781 [==============================] - 41s 53ms/step - loss: 0.7882 - acc: 0.7663 - val_loss: 0.7041 - val_acc: 0.8032\n",
            "Epoch 9/30\n",
            "781/781 [==============================] - 40s 52ms/step - loss: 0.7701 - acc: 0.7778 - val_loss: 0.7128 - val_acc: 0.7978\n",
            "Epoch 10/30\n",
            "781/781 [==============================] - 39s 50ms/step - loss: 0.7486 - acc: 0.7819 - val_loss: 0.8660 - val_acc: 0.7670\n",
            "Epoch 11/30\n",
            "781/781 [==============================] - 38s 49ms/step - loss: 0.7417 - acc: 0.7865 - val_loss: 0.6872 - val_acc: 0.8126\n",
            "Epoch 12/30\n",
            "781/781 [==============================] - 42s 54ms/step - loss: 0.7239 - acc: 0.7931 - val_loss: 0.7032 - val_acc: 0.8069\n",
            "Epoch 13/30\n",
            "781/781 [==============================] - 42s 53ms/step - loss: 0.7173 - acc: 0.7955 - val_loss: 0.6283 - val_acc: 0.8282\n",
            "Epoch 14/30\n",
            "781/781 [==============================] - 40s 52ms/step - loss: 0.7056 - acc: 0.7990 - val_loss: 0.6476 - val_acc: 0.8291\n",
            "Epoch 15/30\n",
            "781/781 [==============================] - 39s 50ms/step - loss: 0.6986 - acc: 0.8034 - val_loss: 0.6996 - val_acc: 0.8123\n",
            "Epoch 16/30\n",
            "781/781 [==============================] - 38s 49ms/step - loss: 0.6914 - acc: 0.8076 - val_loss: 0.7606 - val_acc: 0.7961\n",
            "Epoch 17/30\n",
            "781/781 [==============================] - 42s 54ms/step - loss: 0.6839 - acc: 0.8101 - val_loss: 0.6699 - val_acc: 0.8185\n",
            "Epoch 18/30\n",
            "781/781 [==============================] - 42s 54ms/step - loss: 0.6752 - acc: 0.8138 - val_loss: 0.6469 - val_acc: 0.8298\n",
            "Epoch 19/30\n",
            "781/781 [==============================] - 42s 53ms/step - loss: 0.6690 - acc: 0.8172 - val_loss: 0.6176 - val_acc: 0.8396\n",
            "Epoch 20/30\n",
            "781/781 [==============================] - 41s 53ms/step - loss: 0.6656 - acc: 0.8166 - val_loss: 0.5982 - val_acc: 0.8454\n",
            "Epoch 21/30\n",
            "781/781 [==============================] - 39s 51ms/step - loss: 0.6557 - acc: 0.8229 - val_loss: 0.6442 - val_acc: 0.8327\n",
            "Epoch 22/30\n",
            "781/781 [==============================] - 39s 49ms/step - loss: 0.6541 - acc: 0.8221 - val_loss: 0.6151 - val_acc: 0.8414\n",
            "Epoch 23/30\n",
            "781/781 [==============================] - 42s 54ms/step - loss: 0.6537 - acc: 0.8229 - val_loss: 0.6252 - val_acc: 0.8331\n",
            "Epoch 24/30\n",
            "781/781 [==============================] - 41s 53ms/step - loss: 0.6497 - acc: 0.8248 - val_loss: 0.6260 - val_acc: 0.8370\n",
            "Epoch 25/30\n",
            "781/781 [==============================] - 40s 51ms/step - loss: 0.6432 - acc: 0.8270 - val_loss: 0.6589 - val_acc: 0.8303\n",
            "Epoch 26/30\n",
            "781/781 [==============================] - 39s 50ms/step - loss: 0.6474 - acc: 0.8269 - val_loss: 0.7111 - val_acc: 0.8173\n",
            "Epoch 27/30\n",
            "781/781 [==============================] - 38s 49ms/step - loss: 0.6425 - acc: 0.8282 - val_loss: 0.6480 - val_acc: 0.8319\n",
            "Epoch 28/30\n",
            "781/781 [==============================] - 42s 54ms/step - loss: 0.6370 - acc: 0.8285 - val_loss: 0.6202 - val_acc: 0.8389\n",
            "Epoch 29/30\n",
            "781/781 [==============================] - 41s 53ms/step - loss: 0.6302 - acc: 0.8325 - val_loss: 0.6129 - val_acc: 0.8472\n",
            "Epoch 30/30\n",
            "781/781 [==============================] - 40s 51ms/step - loss: 0.6297 - acc: 0.8338 - val_loss: 0.5923 - val_acc: 0.8512\n"
          ],
          "name": "stdout"
        },
        {
          "output_type": "execute_result",
          "data": {
            "text/plain": [
              "<keras.callbacks.History at 0x7efc08c5a400>"
            ]
          },
          "metadata": {
            "tags": []
          },
          "execution_count": 40
        }
      ]
    },
    {
      "metadata": {
        "id": "C3sk19dHqqTO",
        "colab_type": "text"
      },
      "cell_type": "markdown",
      "source": [
        "### By the time it is 30 epocs, getting training validation accuracy to 85%"
      ]
    },
    {
      "metadata": {
        "id": "74zZzq_po7XR",
        "colab_type": "text"
      },
      "cell_type": "markdown",
      "source": [
        "### Save the Model"
      ]
    },
    {
      "metadata": {
        "id": "I_N71wFldWq5",
        "colab_type": "code",
        "colab": {}
      },
      "cell_type": "code",
      "source": [
        "#save to disk\n",
        "model_json = model.to_json()\n",
        "with open('model.json', 'w') as json_file:\n",
        "    json_file.write(model_json)\n",
        "model.save_weights('model.h5')"
      ],
      "execution_count": 0,
      "outputs": []
    },
    {
      "metadata": {
        "id": "IZyQqyq9rDM9",
        "colab_type": "text"
      },
      "cell_type": "markdown",
      "source": [
        "## #Test data validation with 128 batch size."
      ]
    },
    {
      "metadata": {
        "id": "ysCjtKp-arBx",
        "colab_type": "code",
        "colab": {
          "base_uri": "https://localhost:8080/",
          "height": 34
        },
        "outputId": "6dd20dbf-878e-495b-eeee-5c07ce91b76f"
      },
      "cell_type": "code",
      "source": [
        " \n",
        "scores = model.evaluate(x_test, y_test, batch_size=128, verbose=1)"
      ],
      "execution_count": 45,
      "outputs": [
        {
          "output_type": "stream",
          "text": [
            "10000/10000 [==============================] - 2s 155us/step\n"
          ],
          "name": "stdout"
        }
      ]
    },
    {
      "metadata": {
        "id": "srqg75SDdjgi",
        "colab_type": "code",
        "colab": {
          "base_uri": "https://localhost:8080/",
          "height": 51
        },
        "outputId": "ffac2c47-e7dd-4e2a-f28f-8cbf4dbaa83f"
      },
      "cell_type": "code",
      "source": [
        "#Printing the scores and the loss\n",
        "print(\"\\nTest result: %.3f loss: %.3f\" % (scores[1]*100, scores[0]))"
      ],
      "execution_count": 48,
      "outputs": [
        {
          "output_type": "stream",
          "text": [
            "\n",
            "Test result: 85.120 loss: 0.592\n"
          ],
          "name": "stdout"
        }
      ]
    }
  ]
}